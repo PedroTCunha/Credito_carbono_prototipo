{
  "nbformat": 4,
  "nbformat_minor": 0,
  "metadata": {
    "colab": {
      "provenance": [],
      "authorship_tag": "ABX9TyMg3US5WFhB2IABs2F2Mai5",
      "include_colab_link": true
    },
    "kernelspec": {
      "name": "python3",
      "display_name": "Python 3"
    },
    "language_info": {
      "name": "python"
    }
  },
  "cells": [
    {
      "cell_type": "markdown",
      "metadata": {
        "id": "view-in-github",
        "colab_type": "text"
      },
      "source": [
        "<a href=\"https://colab.research.google.com/github/gabrielSMarcal/Credito_carbono_prototipo/blob/main/Cr%C3%A9dito_de_Carbono(Prot%C3%B3tipo).ipynb\" target=\"_parent\"><img src=\"https://colab.research.google.com/assets/colab-badge.svg\" alt=\"Open In Colab\"/></a>"
      ]
    },
    {
      "cell_type": "code",
      "execution_count": 3,
      "metadata": {
        "colab": {
          "base_uri": "https://localhost:8080/"
        },
        "id": "HwVXzalaTvWN",
        "outputId": "045aeddb-0fe1-43d9-97e5-08bff82a9530"
      },
      "outputs": [
        {
          "output_type": "stream",
          "name": "stdout",
          "text": [
            "Tonelada de CO2 (Gasolina 1.4) = 0.208\n",
            "Tonelada de CO2 (Gasolina 1.5 à 2.0) = 0.237\n",
            "Tonelada de CO2 (Gasolina acima de 2.0) = 0.306\n",
            "Tonelada de CO2 (Alcool até 1.4) = 0.084\n",
            "Tonelada de CO2 (Alcool de 1.5 até 2.0) = 0.092\n",
            "Tonelada de CO2 (Alcool de acima de 2.0) = 0.098\n",
            "Tonelada de CO2 (Gás Natural) = 0.14\n",
            "Tonelada de CO2 (Energia Elétrica) = 0.051\n",
            "Tonelada de CO2 (Conta de Luz) = 0.034\n"
          ]
        }
      ],
      "source": [
        "#Emissão de CO2 por tipo de combustível\n",
        "co_gasolina = 2.2\n",
        "co_alcool = 0.56\n",
        "co_gas_natural = 0.14\n",
        "co_diesel = 2.8\n",
        "\n",
        "#Emissão de CO2 em um ônibus (diesel)\n",
        "co_onibus = 2.8\n",
        "\n",
        "def credito_gas(consumo):\n",
        "    emissao = consumo * co_gasolina\n",
        "    credito = emissao / 1000\n",
        "\n",
        "    return credito\n",
        "\n",
        "def credito_alcool(consumo):\n",
        "    emissao = consumo * co_alcool\n",
        "    credito = emissao / 1000\n",
        "\n",
        "    return credito\n",
        "\n",
        "def potencia_gas1(km):\n",
        "    consumo = km / 10.6\n",
        "    return f\"Tonelada de CO2 (Gasolina 1.4) = {round(credito_gas(consumo), 3)}\"\n",
        "\n",
        "def potencia_gas2(km):\n",
        "    consumo = km / 9.3\n",
        "    return f\"Tonelada de CO2 (Gasolina 1.5 à 2.0) = {round(credito_gas(consumo), 3)}\"\n",
        "\n",
        "def potencia_gas3(km):\n",
        "    consumo = km / 7.2\n",
        "    return f\"Tonelada de CO2 (Gasolina acima de 2.0) = {round(credito_gas(consumo), 3)}\"\n",
        "\n",
        "def potencia_alcool1(km):\n",
        "    consumo = km / 6.7\n",
        "    return f\"Tonelada de CO2 (Alcool até 1.4) = {round(credito_alcool(consumo), 3)}\"\n",
        "\n",
        "def potencia_alcool2(km):\n",
        "    consumo = km / 6.1\n",
        "    return f\"Tonelada de CO2 (Alcool de 1.5 até 2.0) = {round(credito_alcool(consumo), 3)}\"\n",
        "\n",
        "def potencia_alcool3(km):\n",
        "    consumo = km / 5.7\n",
        "    return f\"Tonelada de CO2 (Alcool de acima de 2.0) = {round(credito_alcool(consumo), 3)}\"\n",
        "\n",
        "def gas_natural(km):\n",
        "    emissao = km * co_gas_natural\n",
        "    credito = emissao / 1000\n",
        "\n",
        "    return f\"Tonelada de CO2 (Gás Natural) = {round(credito, 3)}\"\n",
        "\n",
        "modelo = 1000\n",
        "\n",
        "\n",
        "print(potencia_gas1(modelo))\n",
        "print(potencia_gas2(modelo))\n",
        "print(potencia_gas3(modelo))\n",
        "\n",
        "print(potencia_alcool1(modelo))\n",
        "print(potencia_alcool2(modelo))\n",
        "print(potencia_alcool3(modelo))\n",
        "\n",
        "print(gas_natural(modelo))\n",
        "\n",
        "#Energia por Kwh / Mês\n",
        "co_energia = 0.051\n",
        "\n",
        "def energia_kw(kwh):\n",
        "    emissao = kwh * co_energia\n",
        "    credito = emissao / 1000\n",
        "\n",
        "    return f\"Tonelada de CO2 (Energia Elétrica) = {round(credito, 3)}\"\n",
        "\n",
        "print(energia_kw(modelo))\n",
        "\n",
        "\n",
        "#Energia por conta de luz\n",
        "def energia_conta(reais):\n",
        "    conversao = reais / 0.37\n",
        "    emissao = conversao * co_energia\n",
        "    credito = emissao / 1000\n",
        "\n",
        "    return f\"Tonelada de CO2 (Conta de Luz) = {round(credito, 3)}\"\n",
        "\n",
        "print(energia_conta(250))\n"
      ]
    },
    {
      "cell_type": "code",
      "source": [
        "#https://repositorio.fgv.br/server/api/core/bitstreams/513abd40-1264-4ca2-9c2e-8bd0d047cbcd/content\n",
        "#https://www.gov.br/mcti/pt-br/acompanhe-o-mcti/sirene/emissoes\n",
        "\n",
        "#MOTO\n",
        "#https://iniciativaverde.org.br/calculadora\n",
        "\n",
        "#IDÉIA para site\n",
        "#https://www.sosma.org.br/calcule-sua-emissao-de-co2"
      ],
      "metadata": {
        "id": "MCKSrazt5gpo"
      },
      "execution_count": 4,
      "outputs": []
    }
  ]
}